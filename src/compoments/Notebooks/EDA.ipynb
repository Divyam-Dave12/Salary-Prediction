{
 "cells": [
  {
   "cell_type": "code",
   "execution_count": null,
   "id": "c70943cd",
   "metadata": {},
   "outputs": [],
   "source": [
    "import pandas as pd\n",
    "import numpy as np\n",
    "import matplotlib.pyplot as plt\n",
    "import seaborn as sns"
   ]
  },
  {
   "cell_type": "markdown",
   "id": "1aaad7b2",
   "metadata": {},
   "source": [
    "Step one load dataset"
   ]
  },
  {
   "cell_type": "code",
   "execution_count": null,
   "id": "bb63c16d",
   "metadata": {},
   "outputs": [],
   "source": [
    "df = pd.read_csv('E:\\DATA_ANALYST\\Salary-Prediction\\src\\compoments\\Data\\employee_data.csv')\n",
    "df2 = pd.read_csv('E:\\DATA_ANALYST\\Salary-Prediction\\src\\compoments\\Data\\\\recruitment_data.csv')\n",
    "df3 = pd.read_csv('E:\\DATA_ANALYST\\Salary-Prediction\\src\\compoments\\Data\\\\training_and_development_data.csv')"
   ]
  },
  {
   "cell_type": "code",
   "execution_count": null,
   "id": "57a03b2b",
   "metadata": {},
   "outputs": [],
   "source": [
    "#Display the first few rows of the dataframe\n",
    "print(df.head())"
   ]
  },
  {
   "cell_type": "code",
   "execution_count": null,
   "id": "708bc0e5",
   "metadata": {},
   "outputs": [],
   "source": [
    "#Display all of the columns in the dataframe\n",
    "print(df.columns)"
   ]
  },
  {
   "cell_type": "code",
   "execution_count": null,
   "id": "df92b324",
   "metadata": {},
   "outputs": [],
   "source": [
    "print(df.info())"
   ]
  },
  {
   "cell_type": "markdown",
   "id": "c2a1f1e0",
   "metadata": {},
   "source": [
    "Data cleaning "
   ]
  },
  {
   "cell_type": "code",
   "execution_count": null,
   "id": "b3d715be",
   "metadata": {},
   "outputs": [],
   "source": [
    "df.isnull().sum()"
   ]
  },
  {
   "cell_type": "code",
   "execution_count": null,
   "id": "85ffb699",
   "metadata": {},
   "outputs": [],
   "source": [
    "df.drop('TerminationDescription' , inplace= True , axis=1)"
   ]
  },
  {
   "cell_type": "code",
   "execution_count": null,
   "id": "e72784df",
   "metadata": {},
   "outputs": [],
   "source": [
    "df['StartDate'] = pd.to_datetime(df['StartDate'],format=\"%d/%m/%Y\")\n",
    "df['ExitDate'] = pd.to_datetime(df['ExitDate'],format=\"%d/%m/%Y\")\n",
    "df['DOB'] = pd.to_datetime(df['DOB'],format=\"%d-%m-%Y\")\n",
    "\n",
    "print(df['StartDate'].head())\n",
    "print(df['ExitDate'].head())\n",
    "\n",
    "df['StartDate'] = df['StartDate'].fillna(pd.to_datetime('01/01/2025', format=\"%d/%m/%Y\"))\n",
    "df['ExitDate'] = df['ExitDate'].fillna(pd.to_datetime('31/12/2025', format=\"%d/%m/%Y\"))\n",
    "\n",
    "print(df['StartDate'].isnull().sum())\n",
    "print(df['ExitDate'].isnull().sum())\n",
    "\n"
   ]
  },
  {
   "cell_type": "code",
   "execution_count": null,
   "id": "b2901cbd",
   "metadata": {},
   "outputs": [],
   "source": [
    "df.drop('EmpID',axis=1, inplace=True)"
   ]
  },
  {
   "cell_type": "code",
   "execution_count": null,
   "id": "048a2c82",
   "metadata": {},
   "outputs": [],
   "source": [
    "df2.head()"
   ]
  },
  {
   "cell_type": "code",
   "execution_count": null,
   "id": "38a4e0b8",
   "metadata": {},
   "outputs": [],
   "source": [
    "# if 'OfferedSalary' not in df2.columns:\n",
    "#     df2['OfferedSalary'] = np.nan\n",
    "# mask = df2['Years of Experience'] < 5\n",
    "# mean_salary = df2.loc[mask, 'OfferedSalary'].mean()\n",
    "# df2.loc[mask, 'OfferedSalary'] = df2.loc[mask, 'OfferedSalary'].fillna(mean_salary)\n",
    "df2['OfferedSalary'] = df2['Years of Experience'].apply(\n",
    "    lambda x: 40000 if x < 5 else 60000\n",
    ")\n"
   ]
  },
  {
   "cell_type": "code",
   "execution_count": null,
   "id": "cde5fcec",
   "metadata": {},
   "outputs": [],
   "source": []
  },
  {
   "cell_type": "code",
   "execution_count": null,
   "id": "66815208",
   "metadata": {},
   "outputs": [],
   "source": [
    "print(df2['OfferedSalary'])\n",
    "print(df2['Desired Salary'])"
   ]
  },
  {
   "cell_type": "code",
   "execution_count": null,
   "id": "84995fe0",
   "metadata": {},
   "outputs": [],
   "source": []
  }
 ],
 "metadata": {
  "kernelspec": {
   "display_name": "base",
   "language": "python",
   "name": "python3"
  },
  "language_info": {
   "codemirror_mode": {
    "name": "ipython",
    "version": 3
   },
   "file_extension": ".py",
   "mimetype": "text/x-python",
   "name": "python",
   "nbconvert_exporter": "python",
   "pygments_lexer": "ipython3",
   "version": "3.13.5"
  }
 },
 "nbformat": 4,
 "nbformat_minor": 5
}
